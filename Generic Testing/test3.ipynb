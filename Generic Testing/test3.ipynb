{
 "cells": [
  {
   "cell_type": "code",
   "execution_count": 1,
   "metadata": {},
   "outputs": [],
   "source": [
    "from sympy import symbols, sympify\n",
    "import sympy as sp\n",
    "from mpmath import radians\n",
    "from matplotlib import pyplot as plt\n",
    "\n",
    "ax = []\n",
    "ay = []\n",
    "\n",
    "def EvaluateFunction(expr, XActualValue):\n",
    "    #Evaluate a mathematical expression with a given value for x and return the result as a float\n",
    "    s = sp.N(expr.subs(x, XActualValue))\n",
    "\n",
    "def GetOneHundredCoordinates(expr):\n",
    "    #Get a list of 100 x,y coordinates for a given expression\n",
    "    ax = []\n",
    "    ay = []\n",
    "    for i in range(0,100):\n",
    "        f = sp.N(expr.subs(x, i))\n",
    "        ax.append(i) \n",
    "        ay.append(f)\n",
    "    return ax, ay\n",
    "\n",
    "def PlotFunction(ax, ay):\n",
    "    #Plot a function given a list of x,y coordinates\n",
    "    plt.plot(ax, ay)\n",
    "    plt.show()"
   ]
  }
 ],
 "metadata": {
  "kernelspec": {
   "display_name": "Python 3.10.7 64-bit",
   "language": "python",
   "name": "python3"
  },
  "language_info": {
   "codemirror_mode": {
    "name": "ipython",
    "version": 3
   },
   "file_extension": ".py",
   "mimetype": "text/x-python",
   "name": "python",
   "nbconvert_exporter": "python",
   "pygments_lexer": "ipython3",
   "version": "3.10.7"
  },
  "orig_nbformat": 4,
  "vscode": {
   "interpreter": {
    "hash": "369f2c481f4da34e4445cda3fffd2e751bd1c4d706f27375911949ba6bb62e1c"
   }
  }
 },
 "nbformat": 4,
 "nbformat_minor": 2
}
