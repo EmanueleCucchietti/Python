{
 "cells": [
  {
   "cell_type": "code",
   "execution_count": 30,
   "metadata": {},
   "outputs": [
    {
     "name": "stdout",
     "output_type": "stream",
     "text": [
      "hello world\n"
     ]
    }
   ],
   "source": [
    "print(\"hello world\")"
   ]
  },
  {
   "cell_type": "code",
   "execution_count": 31,
   "metadata": {},
   "outputs": [
    {
     "name": "stdout",
     "output_type": "stream",
     "text": [
      "ciao mondo\n"
     ]
    }
   ],
   "source": [
    "TestStrCiao = \"ciao\"\n",
    "TestStrMondo = \"mondo\"\n",
    "\n",
    "print(TestStrCiao + \" \" + TestStrMondo)"
   ]
  },
  {
   "cell_type": "code",
   "execution_count": 32,
   "metadata": {},
   "outputs": [
    {
     "name": "stdout",
     "output_type": "stream",
     "text": [
      "ciao mondo\n",
      "ciao mondo da Emanuele\n"
     ]
    }
   ],
   "source": [
    "def SalutaMondo():\n",
    "    print(\"ciao mondo\")\n",
    "def SalutaMondoDaAutore(myName : str):\n",
    "    print(\"ciao mondo da \" + myName)\n",
    "\n",
    "SalutaMondo()\n",
    "SalutaMondoDaAutore(\"Emanuele\")"
   ]
  },
  {
   "cell_type": "code",
   "execution_count": 34,
   "metadata": {},
   "outputs": [
    {
     "name": "stdout",
     "output_type": "stream",
     "text": [
      "0\n",
      "1\n",
      "2\n",
      "3\n",
      "4\n",
      "5\n",
      "6\n",
      "7\n",
      "8\n",
      "9\n",
      "For loop completed\n"
     ]
    }
   ],
   "source": [
    "array = list(range(0, 10))\n",
    "for i in array:\n",
    "    print(i)\n",
    "else:\n",
    "    print(\"For loop completed\")"
   ]
  },
  {
   "cell_type": "code",
   "execution_count": 44,
   "metadata": {},
   "outputs": [
    {
     "name": "stdout",
     "output_type": "stream",
     "text": [
      "0123456789\n",
      "9876543210\n"
     ]
    }
   ],
   "source": [
    "strFor1 = \"\"\n",
    "strFor2 = \"\"\n",
    "for i in range(0, 10):\n",
    "    strFor1 += str(i)\n",
    "print(strFor1)\n",
    "for i in range(9,-1,-1):\n",
    "    strFor2 += str(i)\n",
    "print(strFor2)"
   ]
  },
  {
   "cell_type": "code",
   "execution_count": 56,
   "metadata": {},
   "outputs": [
    {
     "name": "stdout",
     "output_type": "stream",
     "text": [
      "0123456789\n"
     ]
    }
   ],
   "source": [
    "i = 0\n",
    "printStr = \"\"\n",
    "while i < 10:\n",
    "    printStr += str(i)\n",
    "    i += 1\n",
    "print(printStr)"
   ]
  },
  {
   "cell_type": "code",
   "execution_count": 55,
   "metadata": {},
   "outputs": [
    {
     "name": "stdout",
     "output_type": "stream",
     "text": [
      "True\n",
      "False\n",
      "True\n",
      "False\n",
      "True\n",
      "False\n"
     ]
    }
   ],
   "source": [
    "def IsInt2(n):\n",
    "    return isinstance(n, int)\n",
    "\n",
    "def IsInt3(n):\n",
    "    return type(n) == int\n",
    "\n",
    "def IsInt4(n):\n",
    "    return type(n) is int\n",
    "\n",
    "print(IsInt2(1))\n",
    "print(IsInt2(\"1\"))\n",
    "print(IsInt3(1))\n",
    "print(IsInt3(\"1\"))\n",
    "print(IsInt4(1))\n",
    "print(IsInt4(\"1\"))"
   ]
  }
 ],
 "metadata": {
  "kernelspec": {
   "display_name": "Python 3.10.6 64-bit",
   "language": "python",
   "name": "python3"
  },
  "language_info": {
   "codemirror_mode": {
    "name": "ipython",
    "version": 3
   },
   "file_extension": ".py",
   "mimetype": "text/x-python",
   "name": "python",
   "nbconvert_exporter": "python",
   "pygments_lexer": "ipython3",
   "version": "3.10.7"
  },
  "orig_nbformat": 4,
  "vscode": {
   "interpreter": {
    "hash": "369f2c481f4da34e4445cda3fffd2e751bd1c4d706f27375911949ba6bb62e1c"
   }
  }
 },
 "nbformat": 4,
 "nbformat_minor": 2
}
