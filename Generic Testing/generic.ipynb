{
 "cells": [
  {
   "cell_type": "code",
   "execution_count": 4,
   "metadata": {},
   "outputs": [
    {
     "data": {
      "text/plain": [
       "True"
      ]
     },
     "execution_count": 4,
     "metadata": {},
     "output_type": "execute_result"
    }
   ],
   "source": [
    "def IsFloat(value): return type(value) is float\n",
    "\n",
    "x = 2.3\n",
    "IsFloat(x)"
   ]
  },
  {
   "cell_type": "code",
   "execution_count": 13,
   "metadata": {},
   "outputs": [
    {
     "data": {
      "text/plain": [
       "array([-1.        , -0.89473684, -0.78947368, -0.68421053, -0.57894737,\n",
       "       -0.47368421, -0.36842105, -0.26315789, -0.15789474, -0.05263158,\n",
       "        0.05263158,  0.15789474,  0.26315789,  0.36842105,  0.47368421,\n",
       "        0.57894737,  0.68421053,  0.78947368,  0.89473684,  1.        ])"
      ]
     },
     "execution_count": 13,
     "metadata": {},
     "output_type": "execute_result"
    }
   ],
   "source": [
    "import numpy as np\n",
    "x0 = -1\n",
    "x1 = 1\n",
    "np.arange(-1, 2, 0.1)\n",
    "np.linspace(x0, x1, (x1-x0)*10)"
   ]
  },
  {
   "cell_type": "code",
   "execution_count": 16,
   "metadata": {},
   "outputs": [
    {
     "data": {
      "text/plain": [
       "[0,\n",
       " -1.0,\n",
       " -0.8947368421052632,\n",
       " -0.7894736842105263,\n",
       " -0.6842105263157895,\n",
       " -0.5789473684210527,\n",
       " -0.4736842105263158,\n",
       " -0.368421052631579,\n",
       " -0.26315789473684215,\n",
       " -0.1578947368421053,\n",
       " -0.052631578947368474,\n",
       " 0.05263157894736836,\n",
       " 0.1578947368421053,\n",
       " 0.26315789473684204,\n",
       " 0.36842105263157876,\n",
       " 0.4736842105263157,\n",
       " 0.5789473684210527,\n",
       " 0.6842105263157894,\n",
       " 0.7894736842105261,\n",
       " 0.894736842105263,\n",
       " 1.0]"
      ]
     },
     "execution_count": 16,
     "metadata": {},
     "output_type": "execute_result"
    }
   ],
   "source": [
    "import numpy as np\n",
    "x0 = -1\n",
    "x1 = 1\n",
    "inUnitValues = 10\n",
    "[0, *np.linspace(x0, x1, (x1-x0)*inUnitValues)]"
   ]
  },
  {
   "cell_type": "code",
   "execution_count": null,
   "metadata": {},
   "outputs": [],
   "source": []
  }
 ],
 "metadata": {
  "kernelspec": {
   "display_name": "Python 3.10.7 64-bit",
   "language": "python",
   "name": "python3"
  },
  "language_info": {
   "codemirror_mode": {
    "name": "ipython",
    "version": 3
   },
   "file_extension": ".py",
   "mimetype": "text/x-python",
   "name": "python",
   "nbconvert_exporter": "python",
   "pygments_lexer": "ipython3",
   "version": "3.10.7"
  },
  "orig_nbformat": 4,
  "vscode": {
   "interpreter": {
    "hash": "369f2c481f4da34e4445cda3fffd2e751bd1c4d706f27375911949ba6bb62e1c"
   }
  }
 },
 "nbformat": 4,
 "nbformat_minor": 2
}
